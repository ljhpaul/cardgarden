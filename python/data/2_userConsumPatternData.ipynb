{
 "cells": [
  {
   "cell_type": "markdown",
   "id": "077ee4f3-bd3e-4be9-8327-78e4b5997836",
   "metadata": {},
   "source": [
    "# 고객 데이터 가공\n",
    "\n",
    "#### 고객 데이터는 현재 존재하지 않음 -> 인공지능 학습을 위한 가상의 고객 데이터 생성"
   ]
  },
  {
   "cell_type": "markdown",
   "id": "612ba24a-01bd-4d03-b7cd-5246811b9330",
   "metadata": {},
   "source": [
    "### 필수 패키지 정리"
   ]
  },
  {
   "cell_type": "code",
   "execution_count": null,
   "id": "4f993681-75c8-4e2d-9d8b-193abe03a965",
   "metadata": {},
   "outputs": [],
   "source": [
    "import pandas as pd\n",
    "import numpy as np\n",
    "import random\n",
    "from datetime import datetime, timedelta\n",
    "import random\n",
    "import pymysql"
   ]
  },
  {
   "cell_type": "markdown",
   "id": "401e3e73-a6c8-4e4e-9b16-615acaaa7d21",
   "metadata": {},
   "source": [
    "### 데이터 읽어오기"
   ]
  },
  {
   "cell_type": "code",
   "execution_count": null,
   "id": "0fd7321a-f8bf-4c1d-8e62-4dd76ba3804a",
   "metadata": {},
   "outputs": [],
   "source": [
    "#소비데이터\n",
    "file_path = \"/Users/isanghyeon/Downloads/소비데이터.csv\"\n",
    "#데이터 읽기\n",
    "df = pd.read_csv(file_path, encoding='cp949')"
   ]
  },
  {
   "cell_type": "markdown",
   "id": "c96fcd4b-aeaa-4f5f-b352-63ca7aca9cb7",
   "metadata": {},
   "source": [
    "### 고객 데이터 생성을 위한 세부 값 설정"
   ]
  },
  {
   "cell_type": "code",
   "execution_count": null,
   "id": "25db1050-a5db-4488-a5fc-14b6edfd6e44",
   "metadata": {},
   "outputs": [],
   "source": [
    "#샘플 고객데이터 수량 설정\n",
    "n_customers = 20000\n",
    "#성별 설정 SQL문으로 진행하게 될때는 유저데이터에서 JOIN하여 값 얻기\n",
    "gender = [\"남성\", \"여성\"]\n",
    "#pattern_name 설정\n",
    "pattern_name = [\"첫번째\",\"두번째\",\"세번째\",\"2025년\",\"2024년\",\"6월\",\"5월\",\"1월\",\"2월\",\"3월\",\"4월\",\"마지막\"]\n",
    "#소비패턴 값 저장 리스트\n",
    "pattern_rows = []\n",
    "pattern_detail_rows = []"
   ]
  },
  {
   "cell_type": "markdown",
   "id": "6ff92444-061e-4da0-9441-fa170a980dba",
   "metadata": {},
   "source": [
    "### 소비데이터명과 대카테고리명 mapping\n",
    "#### 성별별 금액에 관해 가중치 부여 목적"
   ]
  },
  {
   "cell_type": "code",
   "execution_count": 1,
   "id": "5a3f1e6a-79dd-4b90-8bcd-fa0cfccdc803",
   "metadata": {},
   "outputs": [],
   "source": [
    "category_csi_map = {\n",
    "    '모든가맹점': ['소비지출전망CSI'],\n",
    "    '모빌리티': ['교통비 및 통신비 지출전망CSI'],\n",
    "    '대중교통': ['교통비 및 통신비 지출전망CSI'],\n",
    "    '통신': ['교통비 및 통신비 지출전망CSI'],\n",
    "    '생활': ['소비지출전망CSI', '주거비 지출전망CSI'],\n",
    "    '쇼핑': ['내구재 지출전망CSI', '의류비 지출전망CSI'],\n",
    "    '외식/카페': ['외식비 지출전망CSI'],\n",
    "    '뷰티/피트니스': ['의류비 지출전망CSI'],\n",
    "    '금융/포인트': ['가계저축전망CSI'],\n",
    "    '병원/약국': ['의료·보건비 지출전망CSI'],\n",
    "    '문화/취미': ['교양·오락·문화생활비 지출전망CSI'],\n",
    "    '숙박/항공': ['여행비 지출전망CSI']\n",
    "}"
   ]
  },
  {
   "cell_type": "markdown",
   "id": "45361576-a88d-4632-8edc-83973b21ecae",
   "metadata": {},
   "source": [
    "### 성별에 관해서 금액 가중치 비중 저장"
   ]
  },
  {
   "cell_type": "code",
   "execution_count": null,
   "id": "03e75f05-6020-4637-a60a-5dc0322f1ed7",
   "metadata": {},
   "outputs": [],
   "source": [
    "#남성가중치\n",
    "man_dic = {}\n",
    "#남성데이터의 소비데이터명과 소비데이터값 평균 매칭\n",
    "for i in range(len(df)):\n",
    "    if df[\"CSI분류코드별\"].iloc[i] == \"남자\":\n",
    "        key = df[\"CSI코드별\"].iloc[i]\n",
    "        value = df[\"평균\"].iloc[i]\n",
    "        man_dic[key] = value\n",
    "#카테고리명과 소비데이터값 평균 매칭\n",
    "man_category_weights = {}\n",
    "for category, csi_keys in category_csi_map.items():\n",
    "    values = [man_dic.get(k, 100) for k in csi_keys]\n",
    "    man_category_weights[category] = sum(values) / len(values)\n",
    "#정규화진행\n",
    "total = sum(man_category_weights.values())\n",
    "man_normalized_weights = {k: round(v / total, 4) for k, v in man_category_weights.items()}\n",
    "#남성 가중치값 저장\n",
    "man_weight = []\n",
    "for k, v in man_normalized_weights.items():\n",
    "    man_weight.append(v)\n",
    "\n",
    "\n",
    "#여성가중치\n",
    "woman_dic = {}\n",
    "#여성데이터의 소비데이터명과 소비데이터값 평균 매칭\n",
    "for i in range(len(df)):\n",
    "    if df[\"CSI분류코드별\"].iloc[i] == \"여자\":\n",
    "        key = df[\"CSI코드별\"].iloc[i]\n",
    "        value = df[\"평균\"].iloc[i]\n",
    "        woman_dic[key] = value\n",
    "#카테고리명과 소비데이터값 평균 매칭\n",
    "woman_category_weights = {}\n",
    "for category, csi_keys in category_csi_map.items():\n",
    "    values = [woman_dic.get(k, 100) for k in csi_keys]\n",
    "    woman_category_weights[category] = sum(values) / len(values)\n",
    "#정규화진행\n",
    "total = sum(woman_category_weights.values())\n",
    "woman_normalized_weights = {k: round(v / total, 4) for k, v in woman_category_weights.items()}\n",
    "#여성 가중치값 저장\n",
    "woman_weight = []\n",
    "for k, v in woman_normalized_weights.items():\n",
    "    woman_weight.append(v)"
   ]
  },
  {
   "cell_type": "markdown",
   "id": "9b98bf78-7397-4396-a086-6315349c661e",
   "metadata": {},
   "source": [
    "### 카테고리 설정 및 번호 부여"
   ]
  },
  {
   "cell_type": "code",
   "execution_count": null,
   "id": "8689b384-27d0-4722-9988-123825778147",
   "metadata": {},
   "outputs": [],
   "source": [
    "#카테고리명\n",
    "categories = ['모든가맹점','모빌리티','대중교통','통신','생활','쇼핑','외식/카페','뷰티/피트니스','금융/포인트','병원/약국','문화/취미','숙박/항공']\n",
    "#카테고리명 랜덤 번호 부여\n",
    "category_id_map = {cat: i+1 for i, cat in enumerate(categories)}"
   ]
  },
  {
   "cell_type": "markdown",
   "id": "a118c610-c941-4b81-82a2-cce8d87ece81",
   "metadata": {},
   "source": [
    "### 날짜 변환 함수 준비"
   ]
  },
  {
   "cell_type": "code",
   "execution_count": null,
   "id": "2c6bce61-4907-4295-9439-cf4e1df9c23a",
   "metadata": {},
   "outputs": [],
   "source": [
    "def random_datetime_within_days(days):\n",
    "    now = datetime.now()\n",
    "    random_days = random.randint(0, days)\n",
    "    random_seconds = random.randint(0, 86400)  # 하루 중 랜덤 시간\n",
    "    return (now - timedelta(days=random_days, seconds=random_seconds)).strftime(\"%Y-%m-%d %H:%M:%S\")"
   ]
  },
  {
   "cell_type": "markdown",
   "id": "7ea188b3-b8c3-4323-b572-a3fdb15c42a1",
   "metadata": {},
   "source": [
    "### 데이터 가공 시작"
   ]
  },
  {
   "cell_type": "code",
   "execution_count": null,
   "id": "2ee5c78a-7041-4a35-8f73-3b662d247f6c",
   "metadata": {},
   "outputs": [],
   "source": [
    "# 위에서 설정한 유저 수만큼 데이터 만들기 시작\n",
    "for i in range(n_customers):\n",
    "    user_id = i + 1\n",
    "    # 남/여 성별에 관해서 랜덤 선택\n",
    "    gender_choice = random.choice(gender)\n",
    "    pattern_id = i + 1\n",
    "    # 365일 이내로 랜덤 데이터 생성\n",
    "    created_at = random_datetime_within_days(365)\n",
    "    # 위에서 설정한 값을 통해 pattern_rows 리스트 저장 시작\n",
    "    pattern_rows.append({\n",
    "        \"pattern_id\": pattern_id,\n",
    "        \"user_id\": random.randint(2,5002),\n",
    "        \"pattern_name\": random.choice(pattern_name),\n",
    "        \"created_at\": created_at,\n",
    "        \"gender_choice\": gender_choice\n",
    "    })\n",
    "    # 금액 가중치 비율 설정\n",
    "    weights = woman_weight if gender_choice == \"여성\" else man_weight\n",
    "\n",
    "    # 2~6개의 소비패턴 선택을 위한 과정\n",
    "    k = random.randint(2, 6)\n",
    "    # 카테고리 목록 중 선택\n",
    "    selected_cats = random.sample(categories, k=k)\n",
    "    for cat in selected_cats:\n",
    "        idx = categories.index(cat)\n",
    "        weight = weights[idx]\n",
    "        # 카테고리에 랜덤 소비금액 설정 10,000 ~ 500,000원 랜덤 설정\n",
    "        base_amount = random.randint(10_000, 500_000)\n",
    "        #가중치 부여\n",
    "        amount = int(base_amount * (1 + weight))\n",
    "        if amount > 0:\n",
    "            # 0 이상인 값만 저장\n",
    "            pattern_detail_rows.append({\n",
    "                \"pattern_id\": pattern_id,\n",
    "                \"benefitcategory_id\": category_id_map[cat],\n",
    "                \"amount\": round(amount, -3)\n",
    "            })\n",
    "    #소비패턴 소비값 여성, 남성별 가중치 부여하여 데이터 생성\n",
    "    weights = woman_weight if gender_choice == \"여성\" else man_weight\n",
    "\n",
    "\n",
    "    #추가적으로 없은 소비패턴 추가 부여\n",
    "    for cat, weight in zip(categories, weights):\n",
    "        if random.random() < 0.25:\n",
    "            #소비값 생성과 가중치 부여\n",
    "            base_amount = random.randint(10_000, 500_000)\n",
    "            amount = int(base_amount * (1+weight))\n",
    "            if amount > 0:\n",
    "                pattern_detail_rows.append({\n",
    "                    \"pattern_id\": pattern_id,\n",
    "                    \"benefitcategory_id\": category_id_map[cat],\n",
    "                    \"amount\": round(amount,-3)\n",
    "                })"
   ]
  },
  {
   "cell_type": "markdown",
   "id": "440f3674-9073-4560-b1b1-9742e62d478c",
   "metadata": {},
   "source": [
    "### 저장된 값 dataframe 값으로 저장"
   ]
  },
  {
   "cell_type": "code",
   "execution_count": null,
   "id": "0245905d-6419-4ac1-ad81-f832474038e2",
   "metadata": {},
   "outputs": [],
   "source": [
    "df_pattern_all = pd.DataFrame(pattern_rows)\n",
    "df_pattern = df_pattern_all[[\"pattern_id\", \"user_id\", \"pattern_name\", \"created_at\"]]\n",
    "df_detail = pd.DataFrame(pattern_detail_rows)\n",
    "df_detail = df_detail.drop_duplicates(subset=[\"pattern_id\", \"benefitcategory_id\"], keep='first')"
   ]
  },
  {
   "cell_type": "markdown",
   "id": "cb246a79-d4f4-47c8-a555-76500cf6294f",
   "metadata": {},
   "source": [
    "### database 저장\n",
    "#### 위에서 가공된 데이터를 UserConsumptionPattern 테이블에 저장하기 위한 코드"
   ]
  },
  {
   "cell_type": "code",
   "execution_count": null,
   "id": "0a41961c-2229-4e2a-ab37-f76b4836d06e",
   "metadata": {},
   "outputs": [],
   "source": [
    "df_pattern = df_pattern.where(pd.notnull(df_pattern), None)\n",
    "conn = pymysql.connect(\n",
    "    host='localhost',\n",
    "    user='cardgarden',\n",
    "    password='1234',\n",
    "    database='cardgarden',\n",
    "    charset='utf8mb4'\n",
    ")\n",
    "cursor = conn.cursor()\n",
    "\n",
    "insert_sql = \"\"\"\n",
    "INSERT INTO UserConsumptionPattern (user_id, pattern_name, created_at)\n",
    "VALUES (%s, %s, %s)\n",
    "\"\"\"\n",
    "\n",
    "# pattern_id 실제값 저장용 리스트\n",
    "actual_pattern_ids = []\n",
    "\n",
    "try:\n",
    "    for _, record in df_pattern.iterrows():\n",
    "        cursor.execute(insert_sql, (\n",
    "            record[\"user_id\"],\n",
    "            record[\"pattern_name\"],\n",
    "            record[\"created_at\"]\n",
    "        ))\n",
    "        # LAST_INSERT_ID()를 통해 실제 pattern_id값을 가져옴\n",
    "        pattern_id = cursor.lastrowid\n",
    "        actual_pattern_ids.append(pattern_id)\n",
    "    conn.commit()\n",
    "except Exception as e:\n",
    "    print(\"에러 발생:\", e)\n",
    "    conn.rollback()\n",
    "finally:\n",
    "    cursor.close()\n",
    "    conn.close()"
   ]
  },
  {
   "cell_type": "markdown",
   "id": "b67c91f5-83d0-433e-887d-47ef11510663",
   "metadata": {},
   "source": [
    "#### 위에서 가공된 데이터를 UserConsumptionPatternDetail 테이블에 저장하기 위한 코드"
   ]
  },
  {
   "cell_type": "code",
   "execution_count": null,
   "id": "945a6905-9b66-4b35-9137-b56647217348",
   "metadata": {},
   "outputs": [],
   "source": [
    "# 먼저, 패턴id를 매핑할 딕셔너리 생성\n",
    "old_to_new = {old: new for old, new in zip(df_pattern[\"pattern_id\"], actual_pattern_ids)}\n",
    "\n",
    "# df_detail의 pattern_id를 실제 pattern_id로 변환\n",
    "df_detail[\"pattern_id\"] = df_detail[\"pattern_id\"].map(old_to_new)\n",
    "\n",
    "\n",
    "df_detail = df_detail.where(pd.notnull(df_detail), None)\n",
    "conn = pymysql.connect(\n",
    "    host='localhost',\n",
    "    user='cardgarden',\n",
    "    password='1234',\n",
    "    database='cardgarden',\n",
    "    charset='utf8mb4'\n",
    ")\n",
    "cursor = conn.cursor()\n",
    "insert_sql = \"\"\"\n",
    "INSERT INTO UserConsumptionPatternDetail (pattern_id, benefitcategory_id, amount)\n",
    "VALUES (%s, %s, %s)\n",
    "\"\"\"\n",
    "\n",
    "try:\n",
    "    for _, record in df_detail.iterrows():\n",
    "        cursor.execute(insert_sql, (\n",
    "            record[\"pattern_id\"],\n",
    "            record[\"benefitcategory_id\"],\n",
    "            record[\"amount\"]\n",
    "        ))\n",
    "    conn.commit()\n",
    "except Exception as e:\n",
    "    print(\"에러 발생:\", e)\n",
    "    conn.rollback()\n",
    "finally:\n",
    "    cursor.close()\n",
    "    conn.close()"
   ]
  }
 ],
 "metadata": {
  "kernelspec": {
   "display_name": "Python [conda env:base] *",
   "language": "python",
   "name": "conda-base-py"
  },
  "language_info": {
   "codemirror_mode": {
    "name": "ipython",
    "version": 3
   },
   "file_extension": ".py",
   "mimetype": "text/x-python",
   "name": "python",
   "nbconvert_exporter": "python",
   "pygments_lexer": "ipython3",
   "version": "3.12.7"
  }
 },
 "nbformat": 4,
 "nbformat_minor": 5
}
