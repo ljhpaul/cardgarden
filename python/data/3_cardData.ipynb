{
 "cells": [
  {
   "cell_type": "markdown",
   "id": "f27a1189-63ac-4429-9fed-ece63824466c",
   "metadata": {},
   "source": [
    "# Json데이터를 SQL에 넣기 위해 진행하는 과정"
   ]
  },
  {
   "cell_type": "markdown",
   "id": "cf369101-994f-43f9-82fe-252b912ee50d",
   "metadata": {},
   "source": [
    "### 필수 패키지 및 경고 무시 진행"
   ]
  },
  {
   "cell_type": "code",
   "execution_count": 1,
   "id": "a638c1c0-7201-4c50-ab87-4bb62f8053e7",
   "metadata": {},
   "outputs": [],
   "source": [
    "#사용한 import\n",
    "import warnings\n",
    "import pandas as pd\n",
    "import json\n",
    "import random\n",
    "import pymysql\n",
    "\n",
    "\n",
    "# 특정 경고 무시\n",
    "warnings.simplefilter(action=\"ignore\", category=pd.errors.SettingWithCopyWarning)\n",
    "warnings.simplefilter(action=\"ignore\", category=FutureWarning)"
   ]
  },
  {
   "cell_type": "markdown",
   "id": "793a1503-d2a2-4f8b-a93c-3f1ae395e267",
   "metadata": {},
   "source": [
    "### JSON 데이터 불러오기"
   ]
  },
  {
   "cell_type": "code",
   "execution_count": null,
   "id": "0147ea40-d399-4095-902f-32a5f75db438",
   "metadata": {},
   "outputs": [],
   "source": [
    "#JSON 파일 불러오기\n",
    "#중분류 가공 JSON 데이터 불러오기\n",
    "with open('/Users/isanghyeon/Desktop/json/test.json', 'r', encoding='utf-8') as f:\n",
    "    card_detail_data = json.load(f)\n",
    "#체크카드 JSON 데이터 불러오기\n",
    "with open('/Users/isanghyeon/Desktop/json/check_cards.json', 'r', encoding='utf-8') as f:\n",
    "    check_cards = json.load(f)\n",
    "#신용카드 JSON 데이터 불러오기\n",
    "with open('/Users/isanghyeon/Desktop/json/credit_cards.json', 'r', encoding='utf-8') as f:\n",
    "    credit_cards = json.load(f)\n",
    "#카드 홈페이지 바로가기 링크 불러오기\n",
    "with open('/Users/isanghyeon/Desktop/json/link.json', 'r', encoding='utf-8') as f:\n",
    "    card_url = json.load(f)"
   ]
  },
  {
   "cell_type": "markdown",
   "id": "33e33e91-3913-4e4d-a685-a33823c7b786",
   "metadata": {},
   "source": [
    "### 카테고리 설정 및 이미지 링크 설정"
   ]
  },
  {
   "cell_type": "code",
   "execution_count": 2,
   "id": "397715b4-b64d-472f-a6a2-5f2394ad4a08",
   "metadata": {},
   "outputs": [],
   "source": [
    "#값저장하기\n",
    "\n",
    "#대카테고리 데이터 생성\n",
    "categories = ['모든가맹점','모빌리티','대중교통','통신','생활','쇼핑','외식/카페','뷰티/피트니스','금융/포인트','병원/약국','문화/취미','숙박/항공']\n",
    "\n",
    "#소카테고리명\n",
    "all_com = [\"모든가맹점\"]\n",
    "car = [\"주유소\",\"자동차/하이패스\"]\n",
    "public = [\"기차\",\"택시\",\"고속버스\",\"대중교통\",\"교통\"]\n",
    "call = [\"LGU+\",\"KT\",\"SKT\",\"통신\"]\n",
    "life = [\"공과금/렌탈\",\"교육/육아\",\"애완동물\",\"교육/육아\"]\n",
    "shopping = ['편의점','온라인쇼핑','마트/백화점','쇼핑']\n",
    "food = ['음식점','배달','카페','디저트','외식/카페']\n",
    "beauty = ['뷰티','피트니스','뷰티/피트니스']\n",
    "point = ['혜택','금융','보험','간편결제','해외']\n",
    "hospital = ['병원','약국','병원/약국']\n",
    "ott = ['OTT','영화','취미','OTT/영화/문화']\n",
    "air = ['항공','공항라운지/PP','프리미엄',\"여행/숙박\"]\n",
    "#대-중 카테고리 연결\n",
    "arr_key2 = ['모든가맹점','모빌리티','대중교통','통신','생활','쇼핑','외식/카페','뷰티/피트니스','금융/포인트','병원/약국','문화/취미','숙박/항공']\n",
    "arr_value2 = [all_com,car,public,call,life,shopping,food,beauty,point,hospital,ott,air]\n",
    "\n",
    "\n",
    "#혜택 아이콘 링크\n",
    "# sts에서의 경로\n",
    "benefit_images = {\n",
    "    \"모든가맹점\": \"/resources/images/benefitdetailImage/all.png\",\n",
    "    \"주유소\": \"/resources/images/benefitdetailImage/GasStation.png\",\n",
    "    \"자동차/하이패스\": \"/resources/images/benefitdetailImage/Car.png\",\n",
    "    \"기차\": \"/resources/images/benefitdetailImage/Train.png\",\n",
    "    \"택시\": \"/resources/images/benefitdetailImage/Taxi.png\",\n",
    "    \"고속버스\": \"/resources/images/benefitdetailImage/Bus.png\",\n",
    "    \"대중교통\": \"/resources/images/benefitdetailImage/public.png\",\n",
    "    \"교통\": \"/resources/images/benefitdetailImage/public.png\",\n",
    "    \"LGU+\": \"/resources/images/benefitdetailImage/LGU.png\",\n",
    "    \"KT\": \"/resources/images/benefitdetailImage/KT.png\",\n",
    "    \"SKT\": \"/resources/images/benefitdetailImage/SKT.png\",\n",
    "    \"통신\": \"/resources/images/benefitdetailImage/call.png\",\n",
    "    \"공과금/렌탈\": \"/resources/images/benefitdetailImage/Bill.png\",\n",
    "    \"교육/육아\": \"/resources/images/benefitdetailImage/BookAndPencil.png\",\n",
    "    \"생활\": \"/resources/images/benefitdetailImage/BookAndPencil.png\",\n",
    "    \"애완동물\": \"/resources/images/benefitdetailImage/Pets.png\",\n",
    "    \"편의점\": \"/resources/images/benefitdetailImage/Shop.png\",\n",
    "    \"온라인쇼핑\": \"/resources/images/benefitdetailImage/OnlineShopping.png\",\n",
    "    \"마트/백화점\": \"/resources/images/benefitdetailImage/mart.png\",\n",
    "    \"쇼핑\": \"/resources/images/benefitdetailImage/shopping.png\",\n",
    "    \"음식점\": \"/resources/images/benefitdetailImage/Restaurant.png\",\n",
    "    \"배달\": \"/resources/images/benefitdetailImage/Delivery.png\",\n",
    "    \"카페\": \"/resources/images/benefitdetailImage/Cafe.png\",\n",
    "    \"디저트\": \"/resources/images/benefitdetailImage/Dessert.png\",\n",
    "    \"외식/카페\": \"/resources/images/benefitdetailImage/cafeAndDes.png\",\n",
    "    \"뷰티\": \"/resources/images/benefitdetailImage/hair.png\",\n",
    "    \"피트니스\": \"/resources/images/benefitdetailImage/Strength.png\",\n",
    "    \"뷰티/피트니스\": \"/resources/images/benefitdetailImage/hair.png\",\n",
    "    \"혜택\": \"/resources/images/benefitdetailImage/GetCash.png\",\n",
    "    \"금융\": \"/resources/images/benefitdetailImage/CreditCard.png\",\n",
    "    \"보험\": \"/resources/images/benefitdetailImage/Outpatient.png\",\n",
    "    \"간편결제\": \"/resources/images/benefitdetailImage/SmartphonePay.png\",\n",
    "    \"해외\": \"/resources/images/benefitdetailImage/Earth.png\",\n",
    "    \"병원\": \"/resources/images/benefitdetailImage/Hospital.png\",\n",
    "    \"약국\": \"/resources/images/benefitdetailImage/Hospital.png\",\n",
    "    \"병원/약국\": \"/resources/images/benefitdetailImage/Hospital.png\",\n",
    "    \"OTT\": \"/resources/images/benefitdetailImage/Netflix.png\",\n",
    "    \"영화\": \"/resources/images/benefitdetailImage/MovieProjector.png\",\n",
    "    \"취미\": \"/resources/images/benefitdetailImage/Bowling.png\",\n",
    "    \"OTT/영화/문화\": \"/resources/images/benefitdetailImage/MovieProjector.png\",\n",
    "    \"항공\": \"/resources/images/benefitdetailImage/Airport.png\",\n",
    "    \"공항라운지/PP\": \"/resources/images/benefitdetailImage/Cocktail.png\",\n",
    "    \"프리미엄\": \"/resources/images/benefitdetailImage/Guarantee.png\",\n",
    "    \"여행/숙박\": \"/resources/images/benefitdetailImage/Luggage.png\"\n",
    "}\n",
    "# 이미지 링크 데이터 베이스 저장\n",
    "df_link = pd.DataFrame(list(benefit_images.items()), columns=['benefitdetail_name', 'benefitdetail_image'])"
   ]
  },
  {
   "cell_type": "markdown",
   "id": "f4bb50e6-13e2-4523-a888-3680ac59e9f6",
   "metadata": {},
   "source": [
    "### 데이터 가공 시작"
   ]
  },
  {
   "cell_type": "markdown",
   "id": "ade98c8b-55bd-43e4-b6c5-9a2ea702bf11",
   "metadata": {},
   "source": [
    "#### 금액 부분 '원'이란 글자를 포함하면 해당 글자 제거 후 숫자만 남기기"
   ]
  },
  {
   "cell_type": "code",
   "execution_count": null,
   "id": "0849d26a-5409-43bb-b9c7-0b77c9adf056",
   "metadata": {},
   "outputs": [],
   "source": [
    "def clean_fee(value):\n",
    "    if not value or value == \"없음\":\n",
    "        return 0\n",
    "    # '원' 제거 및 숫자만 추출\n",
    "    return int(''.join(filter(str.isdigit, value)))"
   ]
  },
  {
   "cell_type": "markdown",
   "id": "9c06ad66-14e2-48e3-b4ef-15cd28a77a86",
   "metadata": {},
   "source": [
    "#### 체크카드/신용카드 JSON 데이터 가공"
   ]
  },
  {
   "cell_type": "code",
   "execution_count": null,
   "id": "60436846-b729-4efe-a0d7-d72a6684d7c0",
   "metadata": {},
   "outputs": [],
   "source": [
    "#체크카드/신용카드 JSON 합치기 진행\n",
    "card_type_data = check_cards + credit_cards\n",
    "\n",
    "#2개의 JSON Dataframe 형태로 변환\n",
    "df_type = pd.DataFrame(card_type_data)\n",
    "df_url = pd.DataFrame(card_url)"
   ]
  },
  {
   "cell_type": "markdown",
   "id": "2823e96d-f700-40f1-85ac-ddca0a763d9d",
   "metadata": {},
   "source": [
    "#### JSON 데이터를 통해 세부적인 card table 값 설정"
   ]
  },
  {
   "cell_type": "code",
   "execution_count": null,
   "id": "5fbd982b-14d9-4f99-86a2-bc922b99a435",
   "metadata": {},
   "outputs": [],
   "source": [
    "records = []\n",
    "for card in card_detail_data:\n",
    "    records.append({\n",
    "        \"card_id\": card.get('id'),\n",
    "        \"card_name\": card.get('card_name'),\n",
    "        \"company\": card.get('company'),\n",
    "        \"brand\": card.get('type'),\n",
    "        \"card_image\": card.get('main_image'),\n",
    "        \"fee_domestic\": card.get('fees', {}).get('domestic'),\n",
    "        \"fee_foreign\": card.get('fees', {}).get('foreign'),\n",
    "        \"prev_month_cost\": int(card.get('prev_month_cost')[:2]) \n",
    "            if card.get('prev_month_cost') \n",
    "            and card.get('prev_month_cost') != '없음' \n",
    "            and card.get('prev_month_cost')[:2].isdigit() \n",
    "            else 0,\n",
    "        \"card_like\": random.randint(0,20000),\n",
    "        \"card_views\": random.randint(0,40000)\n",
    "    })\n",
    "df_card = pd.DataFrame(records)"
   ]
  },
  {
   "cell_type": "markdown",
   "id": "37969502-7f4d-4c1f-83fd-fa71dc9336eb",
   "metadata": {},
   "source": [
    "#### 위에서 가공한 데이터프레임들 합치기 시작"
   ]
  },
  {
   "cell_type": "code",
   "execution_count": null,
   "id": "3a184e53-67bc-43d2-bb6b-dc9f2b534625",
   "metadata": {},
   "outputs": [],
   "source": [
    "#카드데이터와 신용/체크 & 카드사바로가기 데이터 merge\n",
    "# card_name 기준 중복 제거\n",
    "df_type_unique = df_type.drop_duplicates(subset=\"card_name\")\n",
    "# company 기준 중복 제거\n",
    "df_url_unique = df_url.drop_duplicates(subset=\"company\")\n",
    "\n",
    "df_card_final = pd.merge(df_card, df_type_unique, on=\"card_name\", how=\"left\")\n",
    "#df_card_final = df_card_final.rename(columns={\"card_type\": \"신용/체크\"})\n",
    "df_card_final['fee_foreign'] = df_card_final['fee_foreign'].apply(clean_fee)\n",
    "df_card_final['fee_domestic'] = df_card_final['fee_domestic'].apply(clean_fee)\n",
    "\n",
    "df_card_final = pd.merge(df_card_final, df_url_unique, on=\"company\", how=\"left\")\n",
    "df_card_final = df_card_final[[\"card_id\",\"card_name\",\"company\",\"card_type\",\"brand\",\"card_image\",\"card_url\"\n",
    "                  ,\"fee_domestic\",\"fee_foreign\",\"prev_month_cost\",\"card_like\",\"card_views\"]]\n",
    "df_card_final['card_type'] = df_card_final['card_type'].fillna(\"신용카드\")"
   ]
  },
  {
   "cell_type": "markdown",
   "id": "cfa750de-361b-4019-9a72-8abd528f39e9",
   "metadata": {},
   "source": [
    "#### 카테고리 세부 설정"
   ]
  },
  {
   "cell_type": "code",
   "execution_count": null,
   "id": "a6be3c36-d642-458f-b20a-e35d1dc638f9",
   "metadata": {},
   "outputs": [],
   "source": [
    "# 1차 대카테고리 값 숫자 매핑\n",
    "benefitcategory_map = {\n",
    "    1:\"모든가맹점\",\n",
    "    2:\"모빌리티\",\n",
    "    3:\"대중교통\",\n",
    "    4:\"통신\",\n",
    "    5:\"생활\",\n",
    "    6:\"쇼핑\",\n",
    "    7:\"외식/카페\",\n",
    "    8:\"뷰티/피트니스\",\n",
    "    9:\"금융/포인트\",\n",
    "    10:\"병원/약국\",\n",
    "    11:\"문화/취미\",\n",
    "    12:\"숙박/항공\"\n",
    "}\n",
    "#카테고리명 랜덤 번호 부여\n",
    "category_id_map = {i+1:cat for i, cat in enumerate(categories)}\n",
    "df_bigCategories = pd.DataFrame(list(benefitcategory_map.items()), columns=['benefitcategory_id', 'benefitCategory_name'])"
   ]
  },
  {
   "cell_type": "markdown",
   "id": "23683408-411b-4c64-b5f5-e4c020e35757",
   "metadata": {},
   "source": [
    "#### 소카테고리 데이터 생성"
   ]
  },
  {
   "cell_type": "code",
   "execution_count": null,
   "id": "4fc1a846-c78b-4071-9fb4-e5a3aab67ba1",
   "metadata": {},
   "outputs": [],
   "source": [
    "tag_dict = {}\n",
    "for keywords, label in zip(arr_key2, arr_value2):\n",
    "    tag_dict[keywords] = label\n",
    "\n",
    "#대카테고리와 merge를 통해 값 연결\n",
    "df_smallCategories3 = pd.DataFrame(list(tag_dict.items()), columns=['benefitCategory_name', 'benefitdetail_name'])\n",
    "df_smallCategories2 = pd.merge(df_bigCategories, df_smallCategories3, on=\"benefitCategory_name\", how=\"left\")\n",
    "#리스트형태 쪼개기\n",
    "df_smallCategories = df_smallCategories2.explode(\"benefitdetail_name\").reset_index(drop=True)\n",
    "df_smallCategories['benefitdetail_id']=''\n",
    "for i in range(len(df_smallCategories)):\n",
    "    df_smallCategories['benefitdetail_id'].iloc[i] = i+1\n",
    "df_smallCategories = df_smallCategories[[\"benefitdetail_id\",\"benefitcategory_id\",\"benefitdetail_name\"]]\n",
    "df_smallCategories = pd.merge(df_smallCategories, df_link, on=\"benefitdetail_name\", how=\"left\")"
   ]
  },
  {
   "cell_type": "markdown",
   "id": "643df982-af2d-4a3b-83fa-71f0cb5c9a20",
   "metadata": {},
   "source": [
    "#### 마무리 가공 시작"
   ]
  },
  {
   "cell_type": "code",
   "execution_count": null,
   "id": "9802d88f-3509-4720-8bb1-4284628ef4cb",
   "metadata": {},
   "outputs": [],
   "source": [
    "#상세혜택 데이터 삽입\n",
    "#데이터 series 형태 데이터 삽입\n",
    "detail_records = []\n",
    "place_id_map = pd.Series(df_smallCategories.benefitdetail_id.values,\n",
    "                         index=df_smallCategories.benefitdetail_name).to_dict()\n",
    "\n",
    "#상세혜택에 cardid, 소카테고리 데이터 연결\n",
    "for card in card_detail_data:\n",
    "    card_id = card.get('id')\n",
    "    benefits = card.get('benefits', [])\n",
    "\n",
    "    for benefit in benefits:\n",
    "        place = benefit.get(\"place\")\n",
    "        text = benefit.get(\"text\")\n",
    "        info = benefit.get(\"info\")\n",
    "        \n",
    "        benefitdetail_id = place_id_map.get(place)\n",
    "        \n",
    "        if benefitdetail_id:\n",
    "            detail_records.append({\n",
    "                \"card_id\": card_id,\n",
    "                \"benefitdetail_id\": benefitdetail_id,\n",
    "                \"cardbenefitdetail_text\": text,\n",
    "                \"cardbenefitdetail_info\": info\n",
    "            })\n",
    "df_card = pd.DataFrame(detail_records)        \n",
    "df_card['cardbenefitdetail_id'] = range(1, len(df_card) + 1)\n",
    "\n",
    "df_card = df_card[[\n",
    "    'cardbenefitdetail_id',\n",
    "    'card_id',\n",
    "    'benefitdetail_id',\n",
    "    'cardbenefitdetail_text',\n",
    "    'cardbenefitdetail_info'\n",
    "]]\n",
    "import numpy as np\n",
    "\n",
    "# NaN → None으로 변환\n",
    "df_card = df_card.where(pd.notnull(df_card), '-')\n",
    "print(df_card)"
   ]
  },
  {
   "cell_type": "markdown",
   "id": "eff1a79c-5556-487b-a2b7-d22da3144df9",
   "metadata": {},
   "source": [
    "### DATABASE에 값 저장 시작"
   ]
  },
  {
   "cell_type": "markdown",
   "id": "4e210b21-80d1-4101-8228-e80cd8779066",
   "metadata": {},
   "source": [
    "#### Card table 값 저장"
   ]
  },
  {
   "cell_type": "code",
   "execution_count": null,
   "id": "497a2545-da8b-4c08-b223-f6af670c2ce3",
   "metadata": {},
   "outputs": [],
   "source": [
    "#card 값 삽입\n",
    "df_card_final = df_card_final.where(pd.notnull(df_card_final), None)\n",
    "\n",
    "# DB 연결\n",
    "conn = pymysql.connect(\n",
    "    host='localhost',\n",
    "    user='cardgarden',\n",
    "    password='1234',\n",
    "    database='test',\n",
    "    charset='utf8mb4'\n",
    ")\n",
    "cursor = conn.cursor()\n",
    "\n",
    "# 컬럼 9개에 맞는 INSERT 문\n",
    "insert_sql = \"\"\"\n",
    "INSERT INTO Card (\n",
    "    card_id, card_name, company, card_type, brand, card_image,\n",
    "    card_url, fee_domestic, fee_foreign, prev_month_cost\n",
    ") VALUES (%s, %s, %s, %s, %s, %s, %s, %s, %s, %s)\n",
    "\"\"\"\n",
    "try:\n",
    "    for _, record in df_card_final.iterrows():\n",
    "        cursor.execute(insert_sql, (\n",
    "            record[\"card_id\"],\n",
    "            record[\"card_name\"],\n",
    "            record[\"company\"],\n",
    "            record[\"card_type\"],\n",
    "            record[\"brand\"],\n",
    "            record[\"card_image\"],\n",
    "            record[\"card_url\"],\n",
    "            record[\"fee_domestic\"],\n",
    "            record[\"fee_foreign\"],\n",
    "            record[\"prev_month_cost\"]\n",
    "        ))\n",
    "    conn.commit()\n",
    "except Exception as e:\n",
    "    print(\"에러 발생:\", e)\n",
    "    conn.rollback()\n",
    "finally:\n",
    "    cursor.close()\n",
    "    conn.close()"
   ]
  },
  {
   "cell_type": "markdown",
   "id": "6f1a29dc-6303-40fb-9a3b-c67321685b61",
   "metadata": {},
   "source": [
    "#### BenefitDetail table 값 저장"
   ]
  },
  {
   "cell_type": "code",
   "execution_count": null,
   "id": "be1134b0-89ab-4606-87ea-f77b376d51a6",
   "metadata": {},
   "outputs": [],
   "source": [
    "#소카테고리 데이터 삽입\n",
    "# NaN을 None으로 변환\n",
    "df_card_final = df_card_final.where(pd.notnull(df_card_final), None)\n",
    "\n",
    "conn = pymysql.connect(\n",
    "    host='192.168.0.11',\n",
    "    user='cardgarden',\n",
    "    password='1234',\n",
    "    database='cardgarden',\n",
    "    charset='utf8mb4'\n",
    ")\n",
    "cursor = conn.cursor()\n",
    "\n",
    "insert_sql = \"\"\"\n",
    "INSERT INTO BenefitDetail (benefitcategory_id, benefitdetail_name,benefitdetail_image)\n",
    "VALUES (%s, %s,%s)\n",
    "\"\"\"\n",
    "\n",
    "try:\n",
    "    for _, record in df_smallCategories.iterrows():\n",
    "        cursor.execute(insert_sql, (\n",
    "            record[\"benefitcategory_id\"],\n",
    "            record[\"benefitdetail_name\"],\n",
    "            record[\"benefitdetail_image\"]\n",
    "        ))\n",
    "    conn.commit()\n",
    "except Exception as e:\n",
    "    print(\"에러 발생:\", e)\n",
    "    conn.rollback()\n",
    "finally:\n",
    "    cursor.close()\n",
    "    conn.close()"
   ]
  },
  {
   "cell_type": "markdown",
   "id": "2756941b-8e7c-43d4-a3cb-59d85ea5cb13",
   "metadata": {},
   "source": [
    "#### CardBenefitDetail table 값 저장"
   ]
  },
  {
   "cell_type": "code",
   "execution_count": null,
   "id": "88a2318f-d668-42e6-acc5-6706ffe417ad",
   "metadata": {},
   "outputs": [],
   "source": [
    "# NaN 또는 리스트 등을 처리하는 안전한 JSON 변환 함수\n",
    "def safe_json(val):\n",
    "    try:\n",
    "        if val is None or (isinstance(val, float) and pd.isna(val)):\n",
    "            return ''\n",
    "        if isinstance(val, (list, dict)):\n",
    "            return json.dumps(val, ensure_ascii=False)\n",
    "        return str(val)\n",
    "    except Exception as e:\n",
    "        print(\"⚠️ 변환 실패:\", e)\n",
    "        return ''\n",
    "\n",
    "# DB 연결\n",
    "conn = pymysql.connect(\n",
    "    host='localhost',  # ← 'local' → 'localhost'\n",
    "    user='cardgarden',\n",
    "    password='1234',\n",
    "    database='cardgarden',\n",
    "    charset='utf8mb4',\n",
    "    autocommit=True  # 자동 커밋 옵션 추가\n",
    ")\n",
    "\n",
    "try:\n",
    "    with conn.cursor() as cursor:\n",
    "        insert_sql = \"\"\"\n",
    "        INSERT INTO CardBenefitDetail (\n",
    "            card_id, benefitdetail_id, cardbenefitdetail_text, cardbenefitdetail_info\n",
    "        )\n",
    "        VALUES (%s, %s, %s, %s)\n",
    "        \"\"\"\n",
    "        \n",
    "        # 데이터프레임에서 한 줄씩 삽입\n",
    "        for idx, record in df_card.iterrows():\n",
    "            try:\n",
    "                card_id = int(record[\"card_id\"])\n",
    "                benefitdetail_id = int(record[\"benefitdetail_id\"])\n",
    "                text = str(record[\"cardbenefitdetail_text\"])\n",
    "                info = safe_json(record[\"cardbenefitdetail_info\"])\n",
    "                \n",
    "                cursor.execute(insert_sql, (card_id, benefitdetail_id, text, info))\n",
    "\n",
    "            except Exception as e:\n",
    "                print(f\"❌ [삽입 실패 - {idx}번째 row]:\", e)\n",
    "                print(\"   ⤷ 내용:\", record)\n",
    "finally:\n",
    "    conn.close()"
   ]
  }
 ],
 "metadata": {
  "kernelspec": {
   "display_name": "Python [conda env:base] *",
   "language": "python",
   "name": "conda-base-py"
  },
  "language_info": {
   "codemirror_mode": {
    "name": "ipython",
    "version": 3
   },
   "file_extension": ".py",
   "mimetype": "text/x-python",
   "name": "python",
   "nbconvert_exporter": "python",
   "pygments_lexer": "ipython3",
   "version": "3.12.7"
  }
 },
 "nbformat": 4,
 "nbformat_minor": 5
}
