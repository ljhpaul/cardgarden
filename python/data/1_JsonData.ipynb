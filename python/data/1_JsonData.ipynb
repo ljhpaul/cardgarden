{
 "cells": [
  {
   "cell_type": "markdown",
   "id": "d5d8e713-a990-43a2-8636-220a017c83d6",
   "metadata": {},
   "source": [
    "# JSON 데이터 가공 시작\n",
    "## 카테고리 정리\n",
    "\n",
    "#### 100개가 넘는 카테고리가 존재하여 이를 통일된 규칙에 따라 정리한다."
   ]
  },
  {
   "cell_type": "markdown",
   "id": "605a2352-c3f3-4bb3-813b-83cc1992aa17",
   "metadata": {},
   "source": [
    "### 필수 패키기 정리"
   ]
  },
  {
   "cell_type": "code",
   "execution_count": 2,
   "id": "abaaf2fb-4614-43cd-9496-1f69d8c3c13f",
   "metadata": {},
   "outputs": [
    {
     "name": "stdout",
     "output_type": "stream",
     "text": [
      "The history saving thread hit an unexpected error (OperationalError('attempt to write a readonly database')).History will not be written to the database.\n"
     ]
    }
   ],
   "source": [
    "import json\n",
    "import pandas as pd"
   ]
  },
  {
   "cell_type": "markdown",
   "id": "467a1f9b-aa92-4478-b487-7f2bdfeee4e9",
   "metadata": {},
   "source": [
    "### 데이터 불러오기"
   ]
  },
  {
   "cell_type": "code",
   "execution_count": 3,
   "id": "815bb4a7-394c-46e3-a572-abb55d05e2b9",
   "metadata": {},
   "outputs": [],
   "source": [
    "# JSON 파일 경로\n",
    "file_path = \"/Users/isanghyeon/Desktop/json/cards_output_merged.json\"\n",
    "\n",
    "# 파일 열고 JSON 로딩\n",
    "with open(file_path, 'r', encoding='utf-8') as f:\n",
    "    data = json.load(f)"
   ]
  },
  {
   "cell_type": "markdown",
   "id": "8475d789-2f68-47d7-88e5-82dcf090526c",
   "metadata": {},
   "source": [
    "### 카테고리 구분\n",
    "\n",
    "#### 카테고리 소카테고리 -> 중카테고리로 묶기"
   ]
  },
  {
   "cell_type": "code",
   "execution_count": 4,
   "id": "8dc5fc28-c1bc-46c3-8275-3fe076d696b2",
   "metadata": {},
   "outputs": [],
   "source": [
    "app = []\n",
    "\n",
    "#모든가맹점\n",
    "all_com = [\"모든가맹점\"]\n",
    "\n",
    "#모빌리티\n",
    "car_gasstation = [\"주유소\",\"충전소\",\"주유\"]\n",
    "car_carAHipass = [\"정비\",\"차\",\"중고차\",\"하이패스\",\"렌터카\",\"자동차\",\"차/중고차\",\"자동차/하이패스\"]\n",
    "\n",
    "#대중교통\n",
    "public_train = [\"기차\"]\n",
    "public_texi = [\"택시\"]\n",
    "public_expressbus = [\"고속버스\"]\n",
    "public_transportation = [\"대중교통\"]\n",
    "public_etc = [\"교통\"]\n",
    "\n",
    "#통신\n",
    "call_LG = [\"LGU+\"]\n",
    "call_KT = [\"KT\"]\n",
    "call_SKT = [\"SKT\"]\n",
    "call_etc = [\"통신\"]\n",
    "\n",
    "#생활\n",
    "life_utilitybillsArental = [\"공과금\",\"렌탈\",\"무이자할부\",\"공과금/렌탈\"]\n",
    "life_studentAnursing = [\"국민행복\",\"문화센터\",\"아이행복\",\"어린이집\",\"유치원\",\"학습지\",\"학원\",\"생활\"]\n",
    "life_animal = [\"동물병원\",\"펫샵\"]\n",
    "life_etc = [\"교육/육아\"]\n",
    "\n",
    "#쇼핑\n",
    "shopping_conveniencestore = [\"편의점\"]\n",
    "shopping_online = [\"소셜커머스\",\"홈쇼핑\",\"온라인쇼핑\"]\n",
    "shopping_martAdepartmentstore = [\"SPA브랜드\",\"면세점\",\"백화점\",\"아울렛\",\"인테리어\",\"SSM\",\"대형마트\",\"전통시장\"]\n",
    "shopping_etc = [\"마트/편의점\",\"쇼핑\"]\n",
    "\n",
    "#외식/카페\n",
    "foodAcafe_eatinghouse = [\"일반음식점\",\"주점\",\"패밀리레스토랑\",\"패스트푸드\",\"점심\",\"푸드\"]\n",
    "foodAcafe_delivery = [\"배달앱\"]\n",
    "foodAcafe_cafe = [\"카페\"]\n",
    "foodAcafe_dessert = [\"베이커리\",\"아이스크림\"]\n",
    "foodAcafe_etc = [\"카페/디저트\"]\n",
    "\n",
    "#뷰티/피트니스\n",
    "beautyAfitness_beauty = ['드럭스토어','헤어','화장품']\n",
    "beautyAfitness_fitness = ['피트니스']\n",
    "beautyAfitness_etc = ['뷰티/피트니스']\n",
    "\n",
    "#금융/포인트\n",
    "financeApoint_benefit = [\"할인\", \"적립\", \"캐시백\", \"멤버십포인트\", \"해피포인트\", \"할인\", \"OK캐쉬백\", \"혜택 프로모션\", \"제휴/PLCC\"]\n",
    "financeApoint_finance = [\"무실적\", \"지역\", \"증권사\", \"연회비지원\", \"금융\", \"CJ ONE\", \"카드사\", \"은행사\", \"BC TOP\", \"하이브리드\"]\n",
    "financeApoint_insurance = [\"보험사\",\"보험\"]\n",
    "financeApoint_pay = [\"네이버페이\", \"삼성페이\", \"카카오페이\", \"PAYCO\", \"APP\"]\n",
    "financeApoint_charge = [\"수수료우대\", '해외이용', '해외직구']\n",
    "\n",
    "#병원/약국\n",
    "hospitalApharmacy_hospital = ['병원']\n",
    "hospitalApharmacy_pharmacy = ['약국']\n",
    "hospitalApharmacy_etc = [\"병원/약국\"]\n",
    "\n",
    "#문화/취미\n",
    "cultureAhobbies_OTT = ['디지털구독']\n",
    "cultureAhobbies_movie = ['공연', '전시', '영화', '공연/전시']\n",
    "cultureAhobbies_hobbies = ['음원사이트', '경기관람', '골프', '테마파크', '게임', '레저/스포츠', '도서']\n",
    "cultureAhobbies_etc = ['OTT/영화/문화']\n",
    "\n",
    "#숙박/항공\n",
    "accommodationAflight_aviation = ['대한항공','아시아나항공','제주항공','에어부산','진에어','이스타항공','티웨이항공','저가항공','공항','항공권','항공마일리지']\n",
    "accommodationAflight_lounge = ['PP','공항라운지','라운지키']\n",
    "accommodationAflight_premium = ['프리미엄 서비스','바우처']\n",
    "accommodationAflight_accommodationAflight = ['리조트','여행사','호텔','온라인 여행사',\"여행/숙박\"]\n",
    "\n",
    "\n",
    "\n",
    "arr_key = [\"모든가맹점\"\n",
    "           ,\"주유소\",\"자동차/하이패스\"\n",
    "           ,\"기차\",\"택시\",\"고속버스\",\"대중교통\",\"교통\"\n",
    "           ,\"LGU+\",\"KT\",\"SKT\",\"통신\"\n",
    "           ,\"공과금/렌탈\",\"교육/육아\",\"애완동물\",\"교육/육아\"\n",
    "           ,'편의점','온라인쇼핑','마트/백화점','쇼핑'\n",
    "           ,'음식점','배달','카페','디저트','외식/카페'\n",
    "           ,'뷰티','피트니스','뷰티/피트니스'\n",
    "           ,'혜택','금융','보험','간편결제','해외'\n",
    "           ,'병원','약국','병원/약국'\n",
    "           ,'OTT','영화','취미','OTT/영화/문화'\n",
    "           ,'항공','공항라운지/PP','프리미엄',\"여행/숙박\"]\n",
    "\n",
    "arr_value = [all_com\n",
    "             ,car_gasstation,car_carAHipass\n",
    "             ,public_train,public_texi,public_expressbus,public_transportation,public_etc\n",
    "             ,call_LG,call_KT,call_SKT,call_etc\n",
    "             ,life_utilitybillsArental,life_studentAnursing,life_animal,life_etc\n",
    "             ,shopping_conveniencestore,shopping_online,shopping_martAdepartmentstore,shopping_etc\n",
    "             ,foodAcafe_eatinghouse,foodAcafe_delivery,foodAcafe_cafe,foodAcafe_dessert,foodAcafe_etc\n",
    "             ,beautyAfitness_beauty,beautyAfitness_fitness,beautyAfitness_etc\n",
    "             ,financeApoint_benefit,financeApoint_finance,financeApoint_insurance,financeApoint_pay,financeApoint_charge\n",
    "             ,hospitalApharmacy_hospital,hospitalApharmacy_pharmacy,hospitalApharmacy_etc\n",
    "             ,cultureAhobbies_OTT,cultureAhobbies_movie,cultureAhobbies_hobbies,cultureAhobbies_etc\n",
    "             ,accommodationAflight_aviation,accommodationAflight_lounge,accommodationAflight_premium,accommodationAflight_accommodationAflight]\n"
   ]
  },
  {
   "cell_type": "markdown",
   "id": "3ba0e3af-a826-455e-882a-b722c7866a5a",
   "metadata": {},
   "source": [
    "### 데이터 가공 시작"
   ]
  },
  {
   "cell_type": "code",
   "execution_count": 11,
   "id": "b23194e0-2778-4289-a5a1-356d2afd2168",
   "metadata": {},
   "outputs": [],
   "source": [
    "# 카드 크롤링 데이터에서 ID값을 순차적으로 증가하는 값으로 변경\n",
    "for idx, item in enumerate(data, start=1):\n",
    "    item[\"id\"] = idx\n",
    "    \n",
    "# 카테고리 소카테고리를 중카테고리로 key:value 형태로 변환\n",
    "tag_dict = {}\n",
    "for keywords, label in zip(arr_key, arr_value):\n",
    "    tag_dict[keywords] = label\n",
    "    \n",
    "# 카테고리를 본격적으로 변환 시작\n",
    "# 위에 선언한 카테고리에 없으면 app에 저장\n",
    "app = []\n",
    "for item in data:\n",
    "    for benefit in item.get(\"benefits\", []):\n",
    "        original_place = benefit[\"place\"]\n",
    "        found = False\n",
    "        \n",
    "        for key, keywords in zip(arr_key, arr_value):\n",
    "            if original_place in keywords:\n",
    "                benefit[\"place\"] = key\n",
    "                found = True\n",
    "                break\n",
    "\n",
    "        if not found:\n",
    "            if (original_place not in tag_dict and original_place not in app):\n",
    "                app.append(original_place)"
   ]
  },
  {
   "cell_type": "markdown",
   "id": "ec44f195-a34b-49f5-b7e5-15823303071c",
   "metadata": {},
   "source": [
    "### JSON 형태로 저장"
   ]
  },
  {
   "cell_type": "code",
   "execution_count": null,
   "id": "34eb488d-406f-4ab4-8d13-d2caf5ae0837",
   "metadata": {},
   "outputs": [],
   "source": [
    "with open('/Users/isanghyeon/Desktop/json/test.json', 'w', encoding='utf-8') as f:\n",
    "    json.dump(data, f, ensure_ascii=False, indent=2)"
   ]
  }
 ],
 "metadata": {
  "kernelspec": {
   "display_name": "Python [conda env:base] *",
   "language": "python",
   "name": "conda-base-py"
  },
  "language_info": {
   "codemirror_mode": {
    "name": "ipython",
    "version": 3
   },
   "file_extension": ".py",
   "mimetype": "text/x-python",
   "name": "python",
   "nbconvert_exporter": "python",
   "pygments_lexer": "ipython3",
   "version": "3.12.7"
  }
 },
 "nbformat": 4,
 "nbformat_minor": 5
}
